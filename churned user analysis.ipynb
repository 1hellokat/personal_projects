{
 "cells": [
  {
   "cell_type": "code",
   "execution_count": 1,
   "metadata": {},
   "outputs": [],
   "source": [
    "import pandas as pd\n",
    "import numpy as np\n",
    "import datetime as dt\n",
    "import matplotlib.pyplot as plt\n",
    "import seaborn as sns\n",
    "\n",
    "from sklearn.preprocessing import StandardScaler\n",
    "from sklearn.model_selection import train_test_split,GridSearchCV,StratifiedKFold\n",
    "from sklearn.linear_model import LogisticRegression\n",
    "from sklearn.ensemble import RandomForestClassifier\n",
    "from sklearn.feature_selection import RFECV\n",
    "from sklearn.metrics import confusion_matrix, classification_report,roc_auc_score,roc_curve\n",
    "from sklearn.metrics import precision_recall_curve, auc, make_scorer, recall_score, accuracy_score, precision_score,f1_score\n",
    "from xgboost import XGBClassifier\n",
    "from imblearn.over_sampling import SMOTE\n",
    "from matplotlib.colors import LinearSegmentedColormap\n"
   ]
  },
  {
   "cell_type": "code",
   "execution_count": 2,
   "metadata": {},
   "outputs": [],
   "source": [
    "import warnings\n",
    "warnings.filterwarnings('ignore')"
   ]
  },
  {
   "cell_type": "markdown",
   "metadata": {},
   "source": [
    "# Load Data"
   ]
  },
  {
   "cell_type": "code",
   "execution_count": 3,
   "metadata": {},
   "outputs": [],
   "source": [
    "df_feature = pd.read_csv('...\\features_data.csv')\n",
    "df_equity = pd.read_csv('...\\equity_value_data.csv')"
   ]
  },
  {
   "cell_type": "markdown",
   "metadata": {},
   "source": [
    "# Identify Churned users "
   ]
  },
  {
   "cell_type": "code",
   "execution_count": 4,
   "metadata": {},
   "outputs": [
    {
     "data": {
      "text/html": [
       "<div>\n",
       "<style scoped>\n",
       "    .dataframe tbody tr th:only-of-type {\n",
       "        vertical-align: middle;\n",
       "    }\n",
       "\n",
       "    .dataframe tbody tr th {\n",
       "        vertical-align: top;\n",
       "    }\n",
       "\n",
       "    .dataframe thead th {\n",
       "        text-align: right;\n",
       "    }\n",
       "</style>\n",
       "<table border=\"1\" class=\"dataframe\">\n",
       "  <thead>\n",
       "    <tr style=\"text-align: right;\">\n",
       "      <th></th>\n",
       "      <th>timestamp</th>\n",
       "      <th>close_equity</th>\n",
       "      <th>user_id</th>\n",
       "      <th>close_date</th>\n",
       "      <th>Last_date</th>\n",
       "    </tr>\n",
       "  </thead>\n",
       "  <tbody>\n",
       "    <tr>\n",
       "      <th>0</th>\n",
       "      <td>2016-08-18T00:00:00Z</td>\n",
       "      <td>1211.6055</td>\n",
       "      <td>0012db34aa7b083f5714e7831195e54d</td>\n",
       "      <td>2016-08-18</td>\n",
       "      <td>NaT</td>\n",
       "    </tr>\n",
       "    <tr>\n",
       "      <th>1</th>\n",
       "      <td>2016-08-19T00:00:00Z</td>\n",
       "      <td>1173.5640</td>\n",
       "      <td>0012db34aa7b083f5714e7831195e54d</td>\n",
       "      <td>2016-08-19</td>\n",
       "      <td>2016-08-18</td>\n",
       "    </tr>\n",
       "    <tr>\n",
       "      <th>2</th>\n",
       "      <td>2016-08-22T00:00:00Z</td>\n",
       "      <td>1253.0597</td>\n",
       "      <td>0012db34aa7b083f5714e7831195e54d</td>\n",
       "      <td>2016-08-22</td>\n",
       "      <td>2016-08-19</td>\n",
       "    </tr>\n",
       "    <tr>\n",
       "      <th>3</th>\n",
       "      <td>2016-08-23T00:00:00Z</td>\n",
       "      <td>1252.9050</td>\n",
       "      <td>0012db34aa7b083f5714e7831195e54d</td>\n",
       "      <td>2016-08-23</td>\n",
       "      <td>2016-08-22</td>\n",
       "    </tr>\n",
       "    <tr>\n",
       "      <th>4</th>\n",
       "      <td>2016-08-24T00:00:00Z</td>\n",
       "      <td>1262.1360</td>\n",
       "      <td>0012db34aa7b083f5714e7831195e54d</td>\n",
       "      <td>2016-08-24</td>\n",
       "      <td>2016-08-23</td>\n",
       "    </tr>\n",
       "  </tbody>\n",
       "</table>\n",
       "</div>"
      ],
      "text/plain": [
       "              timestamp  close_equity                           user_id  \\\n",
       "0  2016-08-18T00:00:00Z     1211.6055  0012db34aa7b083f5714e7831195e54d   \n",
       "1  2016-08-19T00:00:00Z     1173.5640  0012db34aa7b083f5714e7831195e54d   \n",
       "2  2016-08-22T00:00:00Z     1253.0597  0012db34aa7b083f5714e7831195e54d   \n",
       "3  2016-08-23T00:00:00Z     1252.9050  0012db34aa7b083f5714e7831195e54d   \n",
       "4  2016-08-24T00:00:00Z     1262.1360  0012db34aa7b083f5714e7831195e54d   \n",
       "\n",
       "  close_date  Last_date  \n",
       "0 2016-08-18        NaT  \n",
       "1 2016-08-19 2016-08-18  \n",
       "2 2016-08-22 2016-08-19  \n",
       "3 2016-08-23 2016-08-22  \n",
       "4 2016-08-24 2016-08-23  "
      ]
     },
     "execution_count": 4,
     "metadata": {},
     "output_type": "execute_result"
    }
   ],
   "source": [
    "# sort the data by user_id and timestamp\n",
    "df_equity.sort_values(['user_id','timestamp'],inplace = True)\n",
    "df_equity.reset_index(drop = True, inplace = True)\n",
    "\n",
    "# get the user list\n",
    "User_list = df_equity['user_id'].unique()\n",
    "\n",
    "# add the column 'Last_date' as the previous date \n",
    "df_equity['close_date'] = pd.to_datetime(df_equity['timestamp']).dt.date\n",
    "df_equity['close_date'] = df_equity['close_date'].values.astype('datetime64[D]')\n",
    "df_equity['Last_date'] = df_equity.groupby('user_id')['close_date'].shift(1)\n",
    "df_equity.head()"
   ]
  },
  {
   "cell_type": "code",
   "execution_count": 5,
   "metadata": {},
   "outputs": [],
   "source": [
    "# get the last date in the data set\n",
    "end = df_equity['close_date'].max()\n",
    "#print(start,end)"
   ]
  },
  {
   "cell_type": "code",
   "execution_count": 6,
   "metadata": {},
   "outputs": [],
   "source": [
    "##loop all the users to identify the churn users\n",
    "\n",
    "churn_bit = []\n",
    "\n",
    "for i in range(len(User_list)):\n",
    "    \n",
    "    df_temp = df_equity[df_equity['user_id'] == User_list[i]].reset_index(drop = True)\n",
    "    df_temp['Last_date'] = np.where(df_temp['Last_date'].notnull(),df_temp['Last_date'],df_temp['close_date'])\n",
    "    \n",
    "    # fill the date if the last date is not 2017/08/17\n",
    "    if df_temp['close_date'].iloc[-1] != end:\n",
    "        df_temp = df_temp.append(df_temp.iloc[-1]).reset_index(drop = True)\n",
    "        df_temp.loc[len(df_temp)-1,'Last_date'] = df_temp['close_date'].iloc[-1]\n",
    "        df_temp.loc[len(df_temp)-1,'close_date'] = end\n",
    "     \n",
    "    # count the calendar days where the close_equity falls below $10\n",
    "\n",
    "    df_temp['calendar_days'] = (df_temp['close_date'] - df_temp['Last_date']).dt.days\n",
    "    calendar_days_max = df_temp['calendar_days'].max()\n",
    "    \n",
    "    # if the maximun consecutive calendar days where close_equity<=10 is longer than 28, then labeled the user as churned\n",
    "    if calendar_days_max >= 28:\n",
    "        churn_bit.append(1)\n",
    "    else:\n",
    "        churn_bit.append(0) \n",
    "        \n"
   ]
  },
  {
   "cell_type": "code",
   "execution_count": 7,
   "metadata": {},
   "outputs": [
    {
     "name": "stdout",
     "output_type": "stream",
     "text": [
      "There are 18.0 % users have churned in the data provided\n"
     ]
    }
   ],
   "source": [
    "df_churn = pd.DataFrame({'user_id' :User_list,'churn_bit' : churn_bit},columns = {'user_id','churn_bit'})\n",
    "churn_pct = df_churn['churn_bit'].sum()/len(df_churn['user_id'])\n",
    "print(f'There are {churn_pct*100:3.1f} % users have churned in the data provided')"
   ]
  },
  {
   "cell_type": "markdown",
   "metadata": {},
   "source": [
    "# Model for churn users prediction"
   ]
  },
  {
   "cell_type": "code",
   "execution_count": 8,
   "metadata": {},
   "outputs": [
    {
     "data": {
      "text/html": [
       "<div>\n",
       "<style scoped>\n",
       "    .dataframe tbody tr th:only-of-type {\n",
       "        vertical-align: middle;\n",
       "    }\n",
       "\n",
       "    .dataframe tbody tr th {\n",
       "        vertical-align: top;\n",
       "    }\n",
       "\n",
       "    .dataframe thead th {\n",
       "        text-align: right;\n",
       "    }\n",
       "</style>\n",
       "<table border=\"1\" class=\"dataframe\">\n",
       "  <thead>\n",
       "    <tr style=\"text-align: right;\">\n",
       "      <th></th>\n",
       "      <th>risk_tolerance</th>\n",
       "      <th>investment_experience</th>\n",
       "      <th>liquidity_needs</th>\n",
       "      <th>platform</th>\n",
       "      <th>time_spent</th>\n",
       "      <th>instrument_type_first_traded</th>\n",
       "      <th>first_deposit_amount</th>\n",
       "      <th>time_horizon</th>\n",
       "      <th>user_id</th>\n",
       "      <th>churn_bit</th>\n",
       "    </tr>\n",
       "  </thead>\n",
       "  <tbody>\n",
       "    <tr>\n",
       "      <th>0</th>\n",
       "      <td>high_risk_tolerance</td>\n",
       "      <td>limited_investment_exp</td>\n",
       "      <td>very_important_liq_need</td>\n",
       "      <td>Android</td>\n",
       "      <td>33.129417</td>\n",
       "      <td>stock</td>\n",
       "      <td>40.0</td>\n",
       "      <td>med_time_horizon</td>\n",
       "      <td>895044c23edc821881e87da749c01034</td>\n",
       "      <td>0</td>\n",
       "    </tr>\n",
       "    <tr>\n",
       "      <th>1</th>\n",
       "      <td>med_risk_tolerance</td>\n",
       "      <td>limited_investment_exp</td>\n",
       "      <td>very_important_liq_need</td>\n",
       "      <td>Android</td>\n",
       "      <td>16.573517</td>\n",
       "      <td>stock</td>\n",
       "      <td>200.0</td>\n",
       "      <td>short_time_horizon</td>\n",
       "      <td>458b1d95441ced242949deefe8e4b638</td>\n",
       "      <td>0</td>\n",
       "    </tr>\n",
       "    <tr>\n",
       "      <th>2</th>\n",
       "      <td>med_risk_tolerance</td>\n",
       "      <td>limited_investment_exp</td>\n",
       "      <td>very_important_liq_need</td>\n",
       "      <td>iOS</td>\n",
       "      <td>10.008367</td>\n",
       "      <td>stock</td>\n",
       "      <td>25.0</td>\n",
       "      <td>long_time_horizon</td>\n",
       "      <td>c7936f653d293479e034865db9bb932f</td>\n",
       "      <td>0</td>\n",
       "    </tr>\n",
       "    <tr>\n",
       "      <th>3</th>\n",
       "      <td>med_risk_tolerance</td>\n",
       "      <td>limited_investment_exp</td>\n",
       "      <td>very_important_liq_need</td>\n",
       "      <td>Android</td>\n",
       "      <td>1.031633</td>\n",
       "      <td>stock</td>\n",
       "      <td>100.0</td>\n",
       "      <td>short_time_horizon</td>\n",
       "      <td>b255d4bd6c9ba194d3a350b3e76c6393</td>\n",
       "      <td>0</td>\n",
       "    </tr>\n",
       "    <tr>\n",
       "      <th>4</th>\n",
       "      <td>high_risk_tolerance</td>\n",
       "      <td>limited_investment_exp</td>\n",
       "      <td>very_important_liq_need</td>\n",
       "      <td>Android</td>\n",
       "      <td>8.187250</td>\n",
       "      <td>stock</td>\n",
       "      <td>20.0</td>\n",
       "      <td>long_time_horizon</td>\n",
       "      <td>4a168225e89375b8de605cbc0977ae91</td>\n",
       "      <td>0</td>\n",
       "    </tr>\n",
       "  </tbody>\n",
       "</table>\n",
       "</div>"
      ],
      "text/plain": [
       "        risk_tolerance   investment_experience          liquidity_needs  \\\n",
       "0  high_risk_tolerance  limited_investment_exp  very_important_liq_need   \n",
       "1   med_risk_tolerance  limited_investment_exp  very_important_liq_need   \n",
       "2   med_risk_tolerance  limited_investment_exp  very_important_liq_need   \n",
       "3   med_risk_tolerance  limited_investment_exp  very_important_liq_need   \n",
       "4  high_risk_tolerance  limited_investment_exp  very_important_liq_need   \n",
       "\n",
       "  platform  time_spent instrument_type_first_traded  first_deposit_amount  \\\n",
       "0  Android   33.129417                        stock                  40.0   \n",
       "1  Android   16.573517                        stock                 200.0   \n",
       "2      iOS   10.008367                        stock                  25.0   \n",
       "3  Android    1.031633                        stock                 100.0   \n",
       "4  Android    8.187250                        stock                  20.0   \n",
       "\n",
       "         time_horizon                           user_id  churn_bit  \n",
       "0    med_time_horizon  895044c23edc821881e87da749c01034          0  \n",
       "1  short_time_horizon  458b1d95441ced242949deefe8e4b638          0  \n",
       "2   long_time_horizon  c7936f653d293479e034865db9bb932f          0  \n",
       "3  short_time_horizon  b255d4bd6c9ba194d3a350b3e76c6393          0  \n",
       "4   long_time_horizon  4a168225e89375b8de605cbc0977ae91          0  "
      ]
     },
     "execution_count": 8,
     "metadata": {},
     "output_type": "execute_result"
    }
   ],
   "source": [
    "#combine the churn bit we got from question (a)\n",
    "df_feature = pd.merge(df_feature,df_churn,on=['user_id'])\n",
    "df_feature.head()"
   ]
  },
  {
   "cell_type": "markdown",
   "metadata": {},
   "source": [
    "## Basic data exploration"
   ]
  },
  {
   "cell_type": "markdown",
   "metadata": {},
   "source": [
    "### From the last question, where the churned users are around 18% of the sample, the dataset is mildly imbalanced. Here we try to build model without oversampling/downsampling"
   ]
  },
  {
   "cell_type": "code",
   "execution_count": 9,
   "metadata": {},
   "outputs": [
    {
     "data": {
      "text/plain": [
       "risk_tolerance                  0\n",
       "investment_experience           0\n",
       "liquidity_needs                 0\n",
       "platform                        0\n",
       "time_spent                      0\n",
       "instrument_type_first_traded    0\n",
       "first_deposit_amount            0\n",
       "time_horizon                    0\n",
       "user_id                         0\n",
       "churn_bit                       0\n",
       "dtype: int64"
      ]
     },
     "execution_count": 9,
     "metadata": {},
     "output_type": "execute_result"
    }
   ],
   "source": [
    "## check null values in the dataset\n",
    "df_feature.isna().sum()"
   ]
  },
  {
   "cell_type": "code",
   "execution_count": 10,
   "metadata": {},
   "outputs": [
    {
     "data": {
      "text/html": [
       "<div>\n",
       "<style scoped>\n",
       "    .dataframe tbody tr th:only-of-type {\n",
       "        vertical-align: middle;\n",
       "    }\n",
       "\n",
       "    .dataframe tbody tr th {\n",
       "        vertical-align: top;\n",
       "    }\n",
       "\n",
       "    .dataframe thead th {\n",
       "        text-align: right;\n",
       "    }\n",
       "</style>\n",
       "<table border=\"1\" class=\"dataframe\">\n",
       "  <thead>\n",
       "    <tr style=\"text-align: right;\">\n",
       "      <th></th>\n",
       "      <th>risk_tolerance</th>\n",
       "      <th>investment_experience</th>\n",
       "      <th>liquidity_needs</th>\n",
       "      <th>platform</th>\n",
       "      <th>instrument_type_first_traded</th>\n",
       "      <th>time_horizon</th>\n",
       "    </tr>\n",
       "  </thead>\n",
       "  <tbody>\n",
       "    <tr>\n",
       "      <th>0</th>\n",
       "      <td>NaN</td>\n",
       "      <td>NaN</td>\n",
       "      <td>NaN</td>\n",
       "      <td>NaN</td>\n",
       "      <td>13.0</td>\n",
       "      <td>NaN</td>\n",
       "    </tr>\n",
       "    <tr>\n",
       "      <th>Android</th>\n",
       "      <td>NaN</td>\n",
       "      <td>NaN</td>\n",
       "      <td>NaN</td>\n",
       "      <td>1529.0</td>\n",
       "      <td>NaN</td>\n",
       "      <td>NaN</td>\n",
       "    </tr>\n",
       "    <tr>\n",
       "      <th>adr</th>\n",
       "      <td>NaN</td>\n",
       "      <td>NaN</td>\n",
       "      <td>NaN</td>\n",
       "      <td>NaN</td>\n",
       "      <td>197.0</td>\n",
       "      <td>NaN</td>\n",
       "    </tr>\n",
       "    <tr>\n",
       "      <th>both</th>\n",
       "      <td>NaN</td>\n",
       "      <td>NaN</td>\n",
       "      <td>NaN</td>\n",
       "      <td>505.0</td>\n",
       "      <td>NaN</td>\n",
       "      <td>NaN</td>\n",
       "    </tr>\n",
       "    <tr>\n",
       "      <th>cef</th>\n",
       "      <td>NaN</td>\n",
       "      <td>NaN</td>\n",
       "      <td>NaN</td>\n",
       "      <td>NaN</td>\n",
       "      <td>20.0</td>\n",
       "      <td>NaN</td>\n",
       "    </tr>\n",
       "    <tr>\n",
       "      <th>etp</th>\n",
       "      <td>NaN</td>\n",
       "      <td>NaN</td>\n",
       "      <td>NaN</td>\n",
       "      <td>NaN</td>\n",
       "      <td>383.0</td>\n",
       "      <td>NaN</td>\n",
       "    </tr>\n",
       "    <tr>\n",
       "      <th>extensive_investment_exp</th>\n",
       "      <td>NaN</td>\n",
       "      <td>76.0</td>\n",
       "      <td>NaN</td>\n",
       "      <td>NaN</td>\n",
       "      <td>NaN</td>\n",
       "      <td>NaN</td>\n",
       "    </tr>\n",
       "    <tr>\n",
       "      <th>good_investment_exp</th>\n",
       "      <td>NaN</td>\n",
       "      <td>1134.0</td>\n",
       "      <td>NaN</td>\n",
       "      <td>NaN</td>\n",
       "      <td>NaN</td>\n",
       "      <td>NaN</td>\n",
       "    </tr>\n",
       "    <tr>\n",
       "      <th>high_risk_tolerance</th>\n",
       "      <td>3566.0</td>\n",
       "      <td>NaN</td>\n",
       "      <td>NaN</td>\n",
       "      <td>NaN</td>\n",
       "      <td>NaN</td>\n",
       "      <td>NaN</td>\n",
       "    </tr>\n",
       "    <tr>\n",
       "      <th>iOS</th>\n",
       "      <td>NaN</td>\n",
       "      <td>NaN</td>\n",
       "      <td>NaN</td>\n",
       "      <td>3550.0</td>\n",
       "      <td>NaN</td>\n",
       "      <td>NaN</td>\n",
       "    </tr>\n",
       "    <tr>\n",
       "      <th>limited_investment_exp</th>\n",
       "      <td>NaN</td>\n",
       "      <td>2578.0</td>\n",
       "      <td>NaN</td>\n",
       "      <td>NaN</td>\n",
       "      <td>NaN</td>\n",
       "      <td>NaN</td>\n",
       "    </tr>\n",
       "    <tr>\n",
       "      <th>long_time_horizon</th>\n",
       "      <td>NaN</td>\n",
       "      <td>NaN</td>\n",
       "      <td>NaN</td>\n",
       "      <td>NaN</td>\n",
       "      <td>NaN</td>\n",
       "      <td>1833.0</td>\n",
       "    </tr>\n",
       "    <tr>\n",
       "      <th>low_risk_tolerance</th>\n",
       "      <td>239.0</td>\n",
       "      <td>NaN</td>\n",
       "      <td>NaN</td>\n",
       "      <td>NaN</td>\n",
       "      <td>NaN</td>\n",
       "      <td>NaN</td>\n",
       "    </tr>\n",
       "    <tr>\n",
       "      <th>lp</th>\n",
       "      <td>NaN</td>\n",
       "      <td>NaN</td>\n",
       "      <td>NaN</td>\n",
       "      <td>NaN</td>\n",
       "      <td>8.0</td>\n",
       "      <td>NaN</td>\n",
       "    </tr>\n",
       "    <tr>\n",
       "      <th>med_risk_tolerance</th>\n",
       "      <td>1779.0</td>\n",
       "      <td>NaN</td>\n",
       "      <td>NaN</td>\n",
       "      <td>NaN</td>\n",
       "      <td>NaN</td>\n",
       "      <td>NaN</td>\n",
       "    </tr>\n",
       "    <tr>\n",
       "      <th>med_time_horizon</th>\n",
       "      <td>NaN</td>\n",
       "      <td>NaN</td>\n",
       "      <td>NaN</td>\n",
       "      <td>NaN</td>\n",
       "      <td>NaN</td>\n",
       "      <td>918.0</td>\n",
       "    </tr>\n",
       "    <tr>\n",
       "      <th>mlp</th>\n",
       "      <td>NaN</td>\n",
       "      <td>NaN</td>\n",
       "      <td>NaN</td>\n",
       "      <td>NaN</td>\n",
       "      <td>55.0</td>\n",
       "      <td>NaN</td>\n",
       "    </tr>\n",
       "    <tr>\n",
       "      <th>no_investment_exp</th>\n",
       "      <td>NaN</td>\n",
       "      <td>1796.0</td>\n",
       "      <td>NaN</td>\n",
       "      <td>NaN</td>\n",
       "      <td>NaN</td>\n",
       "      <td>NaN</td>\n",
       "    </tr>\n",
       "    <tr>\n",
       "      <th>not_important_liq_need</th>\n",
       "      <td>NaN</td>\n",
       "      <td>NaN</td>\n",
       "      <td>258.0</td>\n",
       "      <td>NaN</td>\n",
       "      <td>NaN</td>\n",
       "      <td>NaN</td>\n",
       "    </tr>\n",
       "    <tr>\n",
       "      <th>reit</th>\n",
       "      <td>NaN</td>\n",
       "      <td>NaN</td>\n",
       "      <td>NaN</td>\n",
       "      <td>NaN</td>\n",
       "      <td>55.0</td>\n",
       "      <td>NaN</td>\n",
       "    </tr>\n",
       "    <tr>\n",
       "      <th>rlt</th>\n",
       "      <td>NaN</td>\n",
       "      <td>NaN</td>\n",
       "      <td>NaN</td>\n",
       "      <td>NaN</td>\n",
       "      <td>9.0</td>\n",
       "      <td>NaN</td>\n",
       "    </tr>\n",
       "    <tr>\n",
       "      <th>short_time_horizon</th>\n",
       "      <td>NaN</td>\n",
       "      <td>NaN</td>\n",
       "      <td>NaN</td>\n",
       "      <td>NaN</td>\n",
       "      <td>NaN</td>\n",
       "      <td>2833.0</td>\n",
       "    </tr>\n",
       "    <tr>\n",
       "      <th>somewhat_important_liq_need</th>\n",
       "      <td>NaN</td>\n",
       "      <td>NaN</td>\n",
       "      <td>1109.0</td>\n",
       "      <td>NaN</td>\n",
       "      <td>NaN</td>\n",
       "      <td>NaN</td>\n",
       "    </tr>\n",
       "    <tr>\n",
       "      <th>stock</th>\n",
       "      <td>NaN</td>\n",
       "      <td>NaN</td>\n",
       "      <td>NaN</td>\n",
       "      <td>NaN</td>\n",
       "      <td>4827.0</td>\n",
       "      <td>NaN</td>\n",
       "    </tr>\n",
       "    <tr>\n",
       "      <th>tracking</th>\n",
       "      <td>NaN</td>\n",
       "      <td>NaN</td>\n",
       "      <td>NaN</td>\n",
       "      <td>NaN</td>\n",
       "      <td>1.0</td>\n",
       "      <td>NaN</td>\n",
       "    </tr>\n",
       "    <tr>\n",
       "      <th>very_important_liq_need</th>\n",
       "      <td>NaN</td>\n",
       "      <td>NaN</td>\n",
       "      <td>4217.0</td>\n",
       "      <td>NaN</td>\n",
       "      <td>NaN</td>\n",
       "      <td>NaN</td>\n",
       "    </tr>\n",
       "    <tr>\n",
       "      <th>wrt</th>\n",
       "      <td>NaN</td>\n",
       "      <td>NaN</td>\n",
       "      <td>NaN</td>\n",
       "      <td>NaN</td>\n",
       "      <td>16.0</td>\n",
       "      <td>NaN</td>\n",
       "    </tr>\n",
       "  </tbody>\n",
       "</table>\n",
       "</div>"
      ],
      "text/plain": [
       "                             risk_tolerance  investment_experience  \\\n",
       "0                                       NaN                    NaN   \n",
       "Android                                 NaN                    NaN   \n",
       "adr                                     NaN                    NaN   \n",
       "both                                    NaN                    NaN   \n",
       "cef                                     NaN                    NaN   \n",
       "etp                                     NaN                    NaN   \n",
       "extensive_investment_exp                NaN                   76.0   \n",
       "good_investment_exp                     NaN                 1134.0   \n",
       "high_risk_tolerance                  3566.0                    NaN   \n",
       "iOS                                     NaN                    NaN   \n",
       "limited_investment_exp                  NaN                 2578.0   \n",
       "long_time_horizon                       NaN                    NaN   \n",
       "low_risk_tolerance                    239.0                    NaN   \n",
       "lp                                      NaN                    NaN   \n",
       "med_risk_tolerance                   1779.0                    NaN   \n",
       "med_time_horizon                        NaN                    NaN   \n",
       "mlp                                     NaN                    NaN   \n",
       "no_investment_exp                       NaN                 1796.0   \n",
       "not_important_liq_need                  NaN                    NaN   \n",
       "reit                                    NaN                    NaN   \n",
       "rlt                                     NaN                    NaN   \n",
       "short_time_horizon                      NaN                    NaN   \n",
       "somewhat_important_liq_need             NaN                    NaN   \n",
       "stock                                   NaN                    NaN   \n",
       "tracking                                NaN                    NaN   \n",
       "very_important_liq_need                 NaN                    NaN   \n",
       "wrt                                     NaN                    NaN   \n",
       "\n",
       "                             liquidity_needs  platform  \\\n",
       "0                                        NaN       NaN   \n",
       "Android                                  NaN    1529.0   \n",
       "adr                                      NaN       NaN   \n",
       "both                                     NaN     505.0   \n",
       "cef                                      NaN       NaN   \n",
       "etp                                      NaN       NaN   \n",
       "extensive_investment_exp                 NaN       NaN   \n",
       "good_investment_exp                      NaN       NaN   \n",
       "high_risk_tolerance                      NaN       NaN   \n",
       "iOS                                      NaN    3550.0   \n",
       "limited_investment_exp                   NaN       NaN   \n",
       "long_time_horizon                        NaN       NaN   \n",
       "low_risk_tolerance                       NaN       NaN   \n",
       "lp                                       NaN       NaN   \n",
       "med_risk_tolerance                       NaN       NaN   \n",
       "med_time_horizon                         NaN       NaN   \n",
       "mlp                                      NaN       NaN   \n",
       "no_investment_exp                        NaN       NaN   \n",
       "not_important_liq_need                 258.0       NaN   \n",
       "reit                                     NaN       NaN   \n",
       "rlt                                      NaN       NaN   \n",
       "short_time_horizon                       NaN       NaN   \n",
       "somewhat_important_liq_need           1109.0       NaN   \n",
       "stock                                    NaN       NaN   \n",
       "tracking                                 NaN       NaN   \n",
       "very_important_liq_need               4217.0       NaN   \n",
       "wrt                                      NaN       NaN   \n",
       "\n",
       "                             instrument_type_first_traded  time_horizon  \n",
       "0                                                    13.0           NaN  \n",
       "Android                                               NaN           NaN  \n",
       "adr                                                 197.0           NaN  \n",
       "both                                                  NaN           NaN  \n",
       "cef                                                  20.0           NaN  \n",
       "etp                                                 383.0           NaN  \n",
       "extensive_investment_exp                              NaN           NaN  \n",
       "good_investment_exp                                   NaN           NaN  \n",
       "high_risk_tolerance                                   NaN           NaN  \n",
       "iOS                                                   NaN           NaN  \n",
       "limited_investment_exp                                NaN           NaN  \n",
       "long_time_horizon                                     NaN        1833.0  \n",
       "low_risk_tolerance                                    NaN           NaN  \n",
       "lp                                                    8.0           NaN  \n",
       "med_risk_tolerance                                    NaN           NaN  \n",
       "med_time_horizon                                      NaN         918.0  \n",
       "mlp                                                  55.0           NaN  \n",
       "no_investment_exp                                     NaN           NaN  \n",
       "not_important_liq_need                                NaN           NaN  \n",
       "reit                                                 55.0           NaN  \n",
       "rlt                                                   9.0           NaN  \n",
       "short_time_horizon                                    NaN        2833.0  \n",
       "somewhat_important_liq_need                           NaN           NaN  \n",
       "stock                                              4827.0           NaN  \n",
       "tracking                                              1.0           NaN  \n",
       "very_important_liq_need                               NaN           NaN  \n",
       "wrt                                                  16.0           NaN  "
      ]
     },
     "execution_count": 10,
     "metadata": {},
     "output_type": "execute_result"
    }
   ],
   "source": [
    "## check the catogorical features\n",
    "col_cat = ['risk_tolerance', 'investment_experience', 'liquidity_needs','platform','instrument_type_first_traded','time_horizon']\n",
    "df_feature[col_cat].apply(pd.Series.value_counts)"
   ]
  },
  {
   "cell_type": "code",
   "execution_count": 11,
   "metadata": {},
   "outputs": [
    {
     "data": {
      "text/html": [
       "<div>\n",
       "<style scoped>\n",
       "    .dataframe tbody tr th:only-of-type {\n",
       "        vertical-align: middle;\n",
       "    }\n",
       "\n",
       "    .dataframe tbody tr th {\n",
       "        vertical-align: top;\n",
       "    }\n",
       "\n",
       "    .dataframe thead th {\n",
       "        text-align: right;\n",
       "    }\n",
       "</style>\n",
       "<table border=\"1\" class=\"dataframe\">\n",
       "  <thead>\n",
       "    <tr style=\"text-align: right;\">\n",
       "      <th></th>\n",
       "      <th>time_spent</th>\n",
       "      <th>first_deposit_amount</th>\n",
       "    </tr>\n",
       "  </thead>\n",
       "  <tbody>\n",
       "    <tr>\n",
       "      <th>count</th>\n",
       "      <td>5584.000000</td>\n",
       "      <td>5584.000000</td>\n",
       "    </tr>\n",
       "    <tr>\n",
       "      <th>mean</th>\n",
       "      <td>34.509706</td>\n",
       "      <td>633.566805</td>\n",
       "    </tr>\n",
       "    <tr>\n",
       "      <th>std</th>\n",
       "      <td>155.080551</td>\n",
       "      <td>2118.323263</td>\n",
       "    </tr>\n",
       "    <tr>\n",
       "      <th>min</th>\n",
       "      <td>0.000000</td>\n",
       "      <td>0.000000</td>\n",
       "    </tr>\n",
       "    <tr>\n",
       "      <th>25%</th>\n",
       "      <td>2.848908</td>\n",
       "      <td>50.000000</td>\n",
       "    </tr>\n",
       "    <tr>\n",
       "      <th>50%</th>\n",
       "      <td>13.474708</td>\n",
       "      <td>100.000000</td>\n",
       "    </tr>\n",
       "    <tr>\n",
       "      <th>75%</th>\n",
       "      <td>33.823829</td>\n",
       "      <td>500.000000</td>\n",
       "    </tr>\n",
       "    <tr>\n",
       "      <th>max</th>\n",
       "      <td>8788.329450</td>\n",
       "      <td>50000.000000</td>\n",
       "    </tr>\n",
       "  </tbody>\n",
       "</table>\n",
       "</div>"
      ],
      "text/plain": [
       "        time_spent  first_deposit_amount\n",
       "count  5584.000000           5584.000000\n",
       "mean     34.509706            633.566805\n",
       "std     155.080551           2118.323263\n",
       "min       0.000000              0.000000\n",
       "25%       2.848908             50.000000\n",
       "50%      13.474708            100.000000\n",
       "75%      33.823829            500.000000\n",
       "max    8788.329450          50000.000000"
      ]
     },
     "execution_count": 11,
     "metadata": {},
     "output_type": "execute_result"
    }
   ],
   "source": [
    "## check the numerical features\n",
    "df_feature[['time_spent','first_deposit_amount']].describe()"
   ]
  },
  {
   "cell_type": "code",
   "execution_count": 12,
   "metadata": {},
   "outputs": [
    {
     "data": {
      "image/png": "[encoded data removed]",
      "text/plain": [
       "<Figure size 432x288 with 1 Axes>"
      ]
     },
     "metadata": {
      "needs_background": "light"
     },
     "output_type": "display_data"
    }
   ],
   "source": [
    "## Look at the distribution of the numerical features\n",
    "df_model_temp = df_feature\n",
    "df_model_temp.loc[df_model_temp['time_spent'] >=df_model_temp['time_spent'].quantile(0.95),'time_spent'] = df_model_temp['time_spent'].quantile(0.95)\n",
    "\n",
    "x = df_model_temp['time_spent']\n",
    "ax = sns.distplot(x, bins=100, color='blue')\n",
    "ax.set_title(\"Distribution of time_spent\")\n",
    "plt.show()"
   ]
  },
  {
   "cell_type": "code",
   "execution_count": 13,
   "metadata": {},
   "outputs": [
    {
     "data": {
      "image/png": "[encoded data removed]",
      "text/plain": [
       "<Figure size 432x288 with 1 Axes>"
      ]
     },
     "metadata": {
      "needs_background": "light"
     },
     "output_type": "display_data"
    }
   ],
   "source": [
    "df_model_temp.loc[df_model_temp['first_deposit_amount'] >=df_model_temp['first_deposit_amount'].quantile(0.95),'first_deposit_amount'] = df_model_temp['first_deposit_amount'].quantile(0.95)\n",
    "x = df_model_temp['first_deposit_amount']\n",
    "ax = sns.distplot(x, bins=100, color='blue')\n",
    "ax.set_title(\"Distribution of first_deposit_amount\")\n",
    "plt.show()"
   ]
  },
  {
   "cell_type": "markdown",
   "metadata": {},
   "source": [
    "## Feature Engineering"
   ]
  },
  {
   "cell_type": "code",
   "execution_count": 14,
   "metadata": {},
   "outputs": [
    {
     "data": {
      "text/html": [
       "<div>\n",
       "<style scoped>\n",
       "    .dataframe tbody tr th:only-of-type {\n",
       "        vertical-align: middle;\n",
       "    }\n",
       "\n",
       "    .dataframe tbody tr th {\n",
       "        vertical-align: top;\n",
       "    }\n",
       "\n",
       "    .dataframe thead th {\n",
       "        text-align: right;\n",
       "    }\n",
       "</style>\n",
       "<table border=\"1\" class=\"dataframe\">\n",
       "  <thead>\n",
       "    <tr style=\"text-align: right;\">\n",
       "      <th></th>\n",
       "      <th>risk_tolerance_high_risk_tolerance</th>\n",
       "      <th>risk_tolerance_low_risk_tolerance</th>\n",
       "      <th>risk_tolerance_med_risk_tolerance</th>\n",
       "      <th>investment_experience_extensive_investment_exp</th>\n",
       "      <th>investment_experience_good_investment_exp</th>\n",
       "      <th>investment_experience_limited_investment_exp</th>\n",
       "      <th>investment_experience_no_investment_exp</th>\n",
       "      <th>liquidity_needs_not_important_liq_need</th>\n",
       "      <th>liquidity_needs_somewhat_important_liq_need</th>\n",
       "      <th>liquidity_needs_very_important_liq_need</th>\n",
       "      <th>...</th>\n",
       "      <th>instrument_type_first_traded_stock</th>\n",
       "      <th>instrument_type_first_traded_tracking</th>\n",
       "      <th>instrument_type_first_traded_wrt</th>\n",
       "      <th>time_horizon_long_time_horizon</th>\n",
       "      <th>time_horizon_med_time_horizon</th>\n",
       "      <th>time_horizon_short_time_horizon</th>\n",
       "      <th>time_spent</th>\n",
       "      <th>first_deposit_amount</th>\n",
       "      <th>user_id</th>\n",
       "      <th>churn_bit</th>\n",
       "    </tr>\n",
       "  </thead>\n",
       "  <tbody>\n",
       "    <tr>\n",
       "      <th>0</th>\n",
       "      <td>1</td>\n",
       "      <td>0</td>\n",
       "      <td>0</td>\n",
       "      <td>0</td>\n",
       "      <td>0</td>\n",
       "      <td>1</td>\n",
       "      <td>0</td>\n",
       "      <td>0</td>\n",
       "      <td>0</td>\n",
       "      <td>1</td>\n",
       "      <td>...</td>\n",
       "      <td>1</td>\n",
       "      <td>0</td>\n",
       "      <td>0</td>\n",
       "      <td>0</td>\n",
       "      <td>1</td>\n",
       "      <td>0</td>\n",
       "      <td>33.129417</td>\n",
       "      <td>40.0</td>\n",
       "      <td>895044c23edc821881e87da749c01034</td>\n",
       "      <td>0</td>\n",
       "    </tr>\n",
       "    <tr>\n",
       "      <th>1</th>\n",
       "      <td>0</td>\n",
       "      <td>0</td>\n",
       "      <td>1</td>\n",
       "      <td>0</td>\n",
       "      <td>0</td>\n",
       "      <td>1</td>\n",
       "      <td>0</td>\n",
       "      <td>0</td>\n",
       "      <td>0</td>\n",
       "      <td>1</td>\n",
       "      <td>...</td>\n",
       "      <td>1</td>\n",
       "      <td>0</td>\n",
       "      <td>0</td>\n",
       "      <td>0</td>\n",
       "      <td>0</td>\n",
       "      <td>1</td>\n",
       "      <td>16.573517</td>\n",
       "      <td>200.0</td>\n",
       "      <td>458b1d95441ced242949deefe8e4b638</td>\n",
       "      <td>0</td>\n",
       "    </tr>\n",
       "    <tr>\n",
       "      <th>2</th>\n",
       "      <td>0</td>\n",
       "      <td>0</td>\n",
       "      <td>1</td>\n",
       "      <td>0</td>\n",
       "      <td>0</td>\n",
       "      <td>1</td>\n",
       "      <td>0</td>\n",
       "      <td>0</td>\n",
       "      <td>0</td>\n",
       "      <td>1</td>\n",
       "      <td>...</td>\n",
       "      <td>1</td>\n",
       "      <td>0</td>\n",
       "      <td>0</td>\n",
       "      <td>1</td>\n",
       "      <td>0</td>\n",
       "      <td>0</td>\n",
       "      <td>10.008367</td>\n",
       "      <td>25.0</td>\n",
       "      <td>c7936f653d293479e034865db9bb932f</td>\n",
       "      <td>0</td>\n",
       "    </tr>\n",
       "    <tr>\n",
       "      <th>3</th>\n",
       "      <td>0</td>\n",
       "      <td>0</td>\n",
       "      <td>1</td>\n",
       "      <td>0</td>\n",
       "      <td>0</td>\n",
       "      <td>1</td>\n",
       "      <td>0</td>\n",
       "      <td>0</td>\n",
       "      <td>0</td>\n",
       "      <td>1</td>\n",
       "      <td>...</td>\n",
       "      <td>1</td>\n",
       "      <td>0</td>\n",
       "      <td>0</td>\n",
       "      <td>0</td>\n",
       "      <td>0</td>\n",
       "      <td>1</td>\n",
       "      <td>1.031633</td>\n",
       "      <td>100.0</td>\n",
       "      <td>b255d4bd6c9ba194d3a350b3e76c6393</td>\n",
       "      <td>0</td>\n",
       "    </tr>\n",
       "    <tr>\n",
       "      <th>4</th>\n",
       "      <td>1</td>\n",
       "      <td>0</td>\n",
       "      <td>0</td>\n",
       "      <td>0</td>\n",
       "      <td>0</td>\n",
       "      <td>1</td>\n",
       "      <td>0</td>\n",
       "      <td>0</td>\n",
       "      <td>0</td>\n",
       "      <td>1</td>\n",
       "      <td>...</td>\n",
       "      <td>1</td>\n",
       "      <td>0</td>\n",
       "      <td>0</td>\n",
       "      <td>1</td>\n",
       "      <td>0</td>\n",
       "      <td>0</td>\n",
       "      <td>8.187250</td>\n",
       "      <td>20.0</td>\n",
       "      <td>4a168225e89375b8de605cbc0977ae91</td>\n",
       "      <td>0</td>\n",
       "    </tr>\n",
       "  </tbody>\n",
       "</table>\n",
       "<p>5 rows × 31 columns</p>\n",
       "</div>"
      ],
      "text/plain": [
       "   risk_tolerance_high_risk_tolerance  risk_tolerance_low_risk_tolerance  \\\n",
       "0                                   1                                  0   \n",
       "1                                   0                                  0   \n",
       "2                                   0                                  0   \n",
       "3                                   0                                  0   \n",
       "4                                   1                                  0   \n",
       "\n",
       "   risk_tolerance_med_risk_tolerance  \\\n",
       "0                                  0   \n",
       "1                                  1   \n",
       "2                                  1   \n",
       "3                                  1   \n",
       "4                                  0   \n",
       "\n",
       "   investment_experience_extensive_investment_exp  \\\n",
       "0                                               0   \n",
       "1                                               0   \n",
       "2                                               0   \n",
       "3                                               0   \n",
       "4                                               0   \n",
       "\n",
       "   investment_experience_good_investment_exp  \\\n",
       "0                                          0   \n",
       "1                                          0   \n",
       "2                                          0   \n",
       "3                                          0   \n",
       "4                                          0   \n",
       "\n",
       "   investment_experience_limited_investment_exp  \\\n",
       "0                                             1   \n",
       "1                                             1   \n",
       "2                                             1   \n",
       "3                                             1   \n",
       "4                                             1   \n",
       "\n",
       "   investment_experience_no_investment_exp  \\\n",
       "0                                        0   \n",
       "1                                        0   \n",
       "2                                        0   \n",
       "3                                        0   \n",
       "4                                        0   \n",
       "\n",
       "   liquidity_needs_not_important_liq_need  \\\n",
       "0                                       0   \n",
       "1                                       0   \n",
       "2                                       0   \n",
       "3                                       0   \n",
       "4                                       0   \n",
       "\n",
       "   liquidity_needs_somewhat_important_liq_need  \\\n",
       "0                                            0   \n",
       "1                                            0   \n",
       "2                                            0   \n",
       "3                                            0   \n",
       "4                                            0   \n",
       "\n",
       "   liquidity_needs_very_important_liq_need  ...  \\\n",
       "0                                        1  ...   \n",
       "1                                        1  ...   \n",
       "2                                        1  ...   \n",
       "3                                        1  ...   \n",
       "4                                        1  ...   \n",
       "\n",
       "   instrument_type_first_traded_stock  instrument_type_first_traded_tracking  \\\n",
       "0                                   1                                      0   \n",
       "1                                   1                                      0   \n",
       "2                                   1                                      0   \n",
       "3                                   1                                      0   \n",
       "4                                   1                                      0   \n",
       "\n",
       "   instrument_type_first_traded_wrt  time_horizon_long_time_horizon  \\\n",
       "0                                 0                               0   \n",
       "1                                 0                               0   \n",
       "2                                 0                               1   \n",
       "3                                 0                               0   \n",
       "4                                 0                               1   \n",
       "\n",
       "   time_horizon_med_time_horizon  time_horizon_short_time_horizon  time_spent  \\\n",
       "0                              1                                0   33.129417   \n",
       "1                              0                                1   16.573517   \n",
       "2                              0                                0   10.008367   \n",
       "3                              0                                1    1.031633   \n",
       "4                              0                                0    8.187250   \n",
       "\n",
       "   first_deposit_amount                           user_id  churn_bit  \n",
       "0                  40.0  895044c23edc821881e87da749c01034          0  \n",
       "1                 200.0  458b1d95441ced242949deefe8e4b638          0  \n",
       "2                  25.0  c7936f653d293479e034865db9bb932f          0  \n",
       "3                 100.0  b255d4bd6c9ba194d3a350b3e76c6393          0  \n",
       "4                  20.0  4a168225e89375b8de605cbc0977ae91          0  \n",
       "\n",
       "[5 rows x 31 columns]"
      ]
     },
     "execution_count": 14,
     "metadata": {},
     "output_type": "execute_result"
    }
   ],
   "source": [
    "## add dummy variables for categorical variables\n",
    "enc_df = pd.get_dummies(df_feature[col_cat], prefix=col_cat)\n",
    "df_model = enc_df.merge(df_feature[['time_spent','first_deposit_amount','user_id', 'churn_bit']], left_index=True, right_index=True)\n",
    "df_model.head()"
   ]
  },
  {
   "cell_type": "code",
   "execution_count": 15,
   "metadata": {},
   "outputs": [
    {
     "data": {
      "text/plain": [
       "<matplotlib.axes._subplots.AxesSubplot at 0x20ca9592fd0>"
      ]
     },
     "execution_count": 15,
     "metadata": {},
     "output_type": "execute_result"
    },
    {
     "data": {
      "image/png": "[encoded data removed]",
      "text/plain": [
       "<Figure size 792x648 with 2 Axes>"
      ]
     },
     "metadata": {
      "needs_background": "light"
     },
     "output_type": "display_data"
    }
   ],
   "source": [
    "## check the variables correlation\n",
    "col_list_all = df_model.columns.values.tolist()\n",
    "corr = df_model[col_list_all].corr()\n",
    "mask = np.zeros_like(corr, dtype=np.bool)\n",
    "mask[np.triu_indices_from(mask)] = True\n",
    "cmap = LinearSegmentedColormap.from_list('', [ 'blue','lightyellow','orange'])\n",
    "f, ax = plt.subplots(figsize=(11, 9))\n",
    "sns.heatmap(corr, mask=mask, cmap=cmap, vmax=.3, center=0,square=True, linewidths=.5, cbar_kws={\"shrink\": .5})"
   ]
  },
  {
   "cell_type": "code",
   "execution_count": 16,
   "metadata": {},
   "outputs": [
    {
     "data": {
      "text/html": [
       "<div>\n",
       "<style scoped>\n",
       "    .dataframe tbody tr th:only-of-type {\n",
       "        vertical-align: middle;\n",
       "    }\n",
       "\n",
       "    .dataframe tbody tr th {\n",
       "        vertical-align: top;\n",
       "    }\n",
       "\n",
       "    .dataframe thead th {\n",
       "        text-align: right;\n",
       "    }\n",
       "</style>\n",
       "<table border=\"1\" class=\"dataframe\">\n",
       "  <thead>\n",
       "    <tr style=\"text-align: right;\">\n",
       "      <th></th>\n",
       "      <th>index</th>\n",
       "      <th>churn_bit</th>\n",
       "    </tr>\n",
       "  </thead>\n",
       "  <tbody>\n",
       "    <tr>\n",
       "      <th>0</th>\n",
       "      <td>churn_bit</td>\n",
       "      <td>1.000000</td>\n",
       "    </tr>\n",
       "    <tr>\n",
       "      <th>1</th>\n",
       "      <td>first_deposit_amount</td>\n",
       "      <td>-0.122320</td>\n",
       "    </tr>\n",
       "    <tr>\n",
       "      <th>10</th>\n",
       "      <td>instrument_type_first_traded_cef</td>\n",
       "      <td>-0.004731</td>\n",
       "    </tr>\n",
       "    <tr>\n",
       "      <th>9</th>\n",
       "      <td>instrument_type_first_traded_mlp</td>\n",
       "      <td>0.005101</td>\n",
       "    </tr>\n",
       "    <tr>\n",
       "      <th>8</th>\n",
       "      <td>instrument_type_first_traded_tracking</td>\n",
       "      <td>-0.006278</td>\n",
       "    </tr>\n",
       "    <tr>\n",
       "      <th>7</th>\n",
       "      <td>instrument_type_first_traded_0</td>\n",
       "      <td>-0.012993</td>\n",
       "    </tr>\n",
       "    <tr>\n",
       "      <th>11</th>\n",
       "      <td>instrument_type_first_traded_rlt</td>\n",
       "      <td>0.004377</td>\n",
       "    </tr>\n",
       "    <tr>\n",
       "      <th>5</th>\n",
       "      <td>instrument_type_first_traded_adr</td>\n",
       "      <td>-0.019003</td>\n",
       "    </tr>\n",
       "    <tr>\n",
       "      <th>4</th>\n",
       "      <td>instrument_type_first_traded_lp</td>\n",
       "      <td>0.019178</td>\n",
       "    </tr>\n",
       "    <tr>\n",
       "      <th>3</th>\n",
       "      <td>instrument_type_first_traded_stock</td>\n",
       "      <td>0.031996</td>\n",
       "    </tr>\n",
       "    <tr>\n",
       "      <th>2</th>\n",
       "      <td>instrument_type_first_traded_etp</td>\n",
       "      <td>-0.033299</td>\n",
       "    </tr>\n",
       "    <tr>\n",
       "      <th>6</th>\n",
       "      <td>instrument_type_first_traded_wrt</td>\n",
       "      <td>0.018427</td>\n",
       "    </tr>\n",
       "    <tr>\n",
       "      <th>12</th>\n",
       "      <td>investment_experience_no_investment_exp</td>\n",
       "      <td>0.047981</td>\n",
       "    </tr>\n",
       "    <tr>\n",
       "      <th>13</th>\n",
       "      <td>investment_experience_limited_investment_exp</td>\n",
       "      <td>-0.027944</td>\n",
       "    </tr>\n",
       "    <tr>\n",
       "      <th>14</th>\n",
       "      <td>investment_experience_good_investment_exp</td>\n",
       "      <td>-0.020265</td>\n",
       "    </tr>\n",
       "    <tr>\n",
       "      <th>16</th>\n",
       "      <td>liquidity_needs_very_important_liq_need</td>\n",
       "      <td>-0.080685</td>\n",
       "    </tr>\n",
       "    <tr>\n",
       "      <th>15</th>\n",
       "      <td>liquidity_needs_somewhat_important_liq_need</td>\n",
       "      <td>0.084072</td>\n",
       "    </tr>\n",
       "    <tr>\n",
       "      <th>17</th>\n",
       "      <td>platform_Android</td>\n",
       "      <td>0.032659</td>\n",
       "    </tr>\n",
       "    <tr>\n",
       "      <th>18</th>\n",
       "      <td>platform_iOS</td>\n",
       "      <td>-0.023420</td>\n",
       "    </tr>\n",
       "    <tr>\n",
       "      <th>19</th>\n",
       "      <td>risk_tolerance_high_risk_tolerance</td>\n",
       "      <td>-0.115460</td>\n",
       "    </tr>\n",
       "    <tr>\n",
       "      <th>20</th>\n",
       "      <td>risk_tolerance_med_risk_tolerance</td>\n",
       "      <td>0.084157</td>\n",
       "    </tr>\n",
       "    <tr>\n",
       "      <th>21</th>\n",
       "      <td>time_horizon_short_time_horizon</td>\n",
       "      <td>0.054137</td>\n",
       "    </tr>\n",
       "    <tr>\n",
       "      <th>22</th>\n",
       "      <td>time_horizon_long_time_horizon</td>\n",
       "      <td>-0.036262</td>\n",
       "    </tr>\n",
       "    <tr>\n",
       "      <th>23</th>\n",
       "      <td>time_spent</td>\n",
       "      <td>0.099392</td>\n",
       "    </tr>\n",
       "  </tbody>\n",
       "</table>\n",
       "</div>"
      ],
      "text/plain": [
       "                                           index  churn_bit\n",
       "0                                      churn_bit   1.000000\n",
       "1                           first_deposit_amount  -0.122320\n",
       "10              instrument_type_first_traded_cef  -0.004731\n",
       "9               instrument_type_first_traded_mlp   0.005101\n",
       "8          instrument_type_first_traded_tracking  -0.006278\n",
       "7                 instrument_type_first_traded_0  -0.012993\n",
       "11              instrument_type_first_traded_rlt   0.004377\n",
       "5               instrument_type_first_traded_adr  -0.019003\n",
       "4                instrument_type_first_traded_lp   0.019178\n",
       "3             instrument_type_first_traded_stock   0.031996\n",
       "2               instrument_type_first_traded_etp  -0.033299\n",
       "6               instrument_type_first_traded_wrt   0.018427\n",
       "12       investment_experience_no_investment_exp   0.047981\n",
       "13  investment_experience_limited_investment_exp  -0.027944\n",
       "14     investment_experience_good_investment_exp  -0.020265\n",
       "16       liquidity_needs_very_important_liq_need  -0.080685\n",
       "15   liquidity_needs_somewhat_important_liq_need   0.084072\n",
       "17                              platform_Android   0.032659\n",
       "18                                  platform_iOS  -0.023420\n",
       "19            risk_tolerance_high_risk_tolerance  -0.115460\n",
       "20             risk_tolerance_med_risk_tolerance   0.084157\n",
       "21               time_horizon_short_time_horizon   0.054137\n",
       "22                time_horizon_long_time_horizon  -0.036262\n",
       "23                                    time_spent   0.099392"
      ]
     },
     "execution_count": 16,
     "metadata": {},
     "output_type": "execute_result"
    }
   ],
   "source": [
    "# remove the dummy vairables that have the least corr with target label of each feature\n",
    "corr.reset_index(inplace = True)\n",
    "corr['churn_bit_abs'] = abs(corr['churn_bit'])\n",
    "corr['feature']=corr['index'].apply(lambda x: x.split('_')[0] if (x != 'first_deposit_amount') & (x != 'time_spent') else x)\n",
    "corr.sort_values(by = 'churn_bit_abs', ascending = False, inplace = True)\n",
    "corr = corr.groupby('feature').apply(lambda x: x.iloc[:-1] if len(x)>1 else x).reset_index(drop=True)\n",
    "corr.sort_values(by = 'feature', inplace = True)\n",
    "corr[['index','churn_bit']]"
   ]
  },
  {
   "cell_type": "code",
   "execution_count": 17,
   "metadata": {},
   "outputs": [
    {
     "data": {
      "text/html": [
       "<div>\n",
       "<style scoped>\n",
       "    .dataframe tbody tr th:only-of-type {\n",
       "        vertical-align: middle;\n",
       "    }\n",
       "\n",
       "    .dataframe tbody tr th {\n",
       "        vertical-align: top;\n",
       "    }\n",
       "\n",
       "    .dataframe thead th {\n",
       "        text-align: right;\n",
       "    }\n",
       "</style>\n",
       "<table border=\"1\" class=\"dataframe\">\n",
       "  <thead>\n",
       "    <tr style=\"text-align: right;\">\n",
       "      <th></th>\n",
       "      <th>risk_tolerance_high_risk_tolerance</th>\n",
       "      <th>risk_tolerance_low_risk_tolerance</th>\n",
       "      <th>risk_tolerance_med_risk_tolerance</th>\n",
       "      <th>investment_experience_extensive_investment_exp</th>\n",
       "      <th>investment_experience_good_investment_exp</th>\n",
       "      <th>investment_experience_limited_investment_exp</th>\n",
       "      <th>investment_experience_no_investment_exp</th>\n",
       "      <th>liquidity_needs_not_important_liq_need</th>\n",
       "      <th>liquidity_needs_somewhat_important_liq_need</th>\n",
       "      <th>liquidity_needs_very_important_liq_need</th>\n",
       "      <th>...</th>\n",
       "      <th>instrument_type_first_traded_stock</th>\n",
       "      <th>instrument_type_first_traded_tracking</th>\n",
       "      <th>instrument_type_first_traded_wrt</th>\n",
       "      <th>time_horizon_long_time_horizon</th>\n",
       "      <th>time_horizon_med_time_horizon</th>\n",
       "      <th>time_horizon_short_time_horizon</th>\n",
       "      <th>time_spent</th>\n",
       "      <th>first_deposit_amount</th>\n",
       "      <th>user_id</th>\n",
       "      <th>churn_bit</th>\n",
       "    </tr>\n",
       "  </thead>\n",
       "  <tbody>\n",
       "    <tr>\n",
       "      <th>0</th>\n",
       "      <td>1</td>\n",
       "      <td>0</td>\n",
       "      <td>0</td>\n",
       "      <td>0</td>\n",
       "      <td>0</td>\n",
       "      <td>1</td>\n",
       "      <td>0</td>\n",
       "      <td>0</td>\n",
       "      <td>0</td>\n",
       "      <td>1</td>\n",
       "      <td>...</td>\n",
       "      <td>1</td>\n",
       "      <td>0</td>\n",
       "      <td>0</td>\n",
       "      <td>0</td>\n",
       "      <td>1</td>\n",
       "      <td>0</td>\n",
       "      <td>0.308806</td>\n",
       "      <td>-0.588710</td>\n",
       "      <td>895044c23edc821881e87da749c01034</td>\n",
       "      <td>0</td>\n",
       "    </tr>\n",
       "    <tr>\n",
       "      <th>1</th>\n",
       "      <td>0</td>\n",
       "      <td>0</td>\n",
       "      <td>1</td>\n",
       "      <td>0</td>\n",
       "      <td>0</td>\n",
       "      <td>1</td>\n",
       "      <td>0</td>\n",
       "      <td>0</td>\n",
       "      <td>0</td>\n",
       "      <td>1</td>\n",
       "      <td>...</td>\n",
       "      <td>1</td>\n",
       "      <td>0</td>\n",
       "      <td>0</td>\n",
       "      <td>0</td>\n",
       "      <td>0</td>\n",
       "      <td>1</td>\n",
       "      <td>-0.262581</td>\n",
       "      <td>-0.344322</td>\n",
       "      <td>458b1d95441ced242949deefe8e4b638</td>\n",
       "      <td>0</td>\n",
       "    </tr>\n",
       "    <tr>\n",
       "      <th>2</th>\n",
       "      <td>0</td>\n",
       "      <td>0</td>\n",
       "      <td>1</td>\n",
       "      <td>0</td>\n",
       "      <td>0</td>\n",
       "      <td>1</td>\n",
       "      <td>0</td>\n",
       "      <td>0</td>\n",
       "      <td>0</td>\n",
       "      <td>1</td>\n",
       "      <td>...</td>\n",
       "      <td>1</td>\n",
       "      <td>0</td>\n",
       "      <td>0</td>\n",
       "      <td>1</td>\n",
       "      <td>0</td>\n",
       "      <td>0</td>\n",
       "      <td>-0.489161</td>\n",
       "      <td>-0.611621</td>\n",
       "      <td>c7936f653d293479e034865db9bb932f</td>\n",
       "      <td>0</td>\n",
       "    </tr>\n",
       "    <tr>\n",
       "      <th>3</th>\n",
       "      <td>0</td>\n",
       "      <td>0</td>\n",
       "      <td>1</td>\n",
       "      <td>0</td>\n",
       "      <td>0</td>\n",
       "      <td>1</td>\n",
       "      <td>0</td>\n",
       "      <td>0</td>\n",
       "      <td>0</td>\n",
       "      <td>1</td>\n",
       "      <td>...</td>\n",
       "      <td>1</td>\n",
       "      <td>0</td>\n",
       "      <td>0</td>\n",
       "      <td>0</td>\n",
       "      <td>0</td>\n",
       "      <td>1</td>\n",
       "      <td>-0.798970</td>\n",
       "      <td>-0.497065</td>\n",
       "      <td>b255d4bd6c9ba194d3a350b3e76c6393</td>\n",
       "      <td>0</td>\n",
       "    </tr>\n",
       "    <tr>\n",
       "      <th>4</th>\n",
       "      <td>1</td>\n",
       "      <td>0</td>\n",
       "      <td>0</td>\n",
       "      <td>0</td>\n",
       "      <td>0</td>\n",
       "      <td>1</td>\n",
       "      <td>0</td>\n",
       "      <td>0</td>\n",
       "      <td>0</td>\n",
       "      <td>1</td>\n",
       "      <td>...</td>\n",
       "      <td>1</td>\n",
       "      <td>0</td>\n",
       "      <td>0</td>\n",
       "      <td>1</td>\n",
       "      <td>0</td>\n",
       "      <td>0</td>\n",
       "      <td>-0.552012</td>\n",
       "      <td>-0.619259</td>\n",
       "      <td>4a168225e89375b8de605cbc0977ae91</td>\n",
       "      <td>0</td>\n",
       "    </tr>\n",
       "  </tbody>\n",
       "</table>\n",
       "<p>5 rows × 31 columns</p>\n",
       "</div>"
      ],
      "text/plain": [
       "   risk_tolerance_high_risk_tolerance  risk_tolerance_low_risk_tolerance  \\\n",
       "0                                   1                                  0   \n",
       "1                                   0                                  0   \n",
       "2                                   0                                  0   \n",
       "3                                   0                                  0   \n",
       "4                                   1                                  0   \n",
       "\n",
       "   risk_tolerance_med_risk_tolerance  \\\n",
       "0                                  0   \n",
       "1                                  1   \n",
       "2                                  1   \n",
       "3                                  1   \n",
       "4                                  0   \n",
       "\n",
       "   investment_experience_extensive_investment_exp  \\\n",
       "0                                               0   \n",
       "1                                               0   \n",
       "2                                               0   \n",
       "3                                               0   \n",
       "4                                               0   \n",
       "\n",
       "   investment_experience_good_investment_exp  \\\n",
       "0                                          0   \n",
       "1                                          0   \n",
       "2                                          0   \n",
       "3                                          0   \n",
       "4                                          0   \n",
       "\n",
       "   investment_experience_limited_investment_exp  \\\n",
       "0                                             1   \n",
       "1                                             1   \n",
       "2                                             1   \n",
       "3                                             1   \n",
       "4                                             1   \n",
       "\n",
       "   investment_experience_no_investment_exp  \\\n",
       "0                                        0   \n",
       "1                                        0   \n",
       "2                                        0   \n",
       "3                                        0   \n",
       "4                                        0   \n",
       "\n",
       "   liquidity_needs_not_important_liq_need  \\\n",
       "0                                       0   \n",
       "1                                       0   \n",
       "2                                       0   \n",
       "3                                       0   \n",
       "4                                       0   \n",
       "\n",
       "   liquidity_needs_somewhat_important_liq_need  \\\n",
       "0                                            0   \n",
       "1                                            0   \n",
       "2                                            0   \n",
       "3                                            0   \n",
       "4                                            0   \n",
       "\n",
       "   liquidity_needs_very_important_liq_need  ...  \\\n",
       "0                                        1  ...   \n",
       "1                                        1  ...   \n",
       "2                                        1  ...   \n",
       "3                                        1  ...   \n",
       "4                                        1  ...   \n",
       "\n",
       "   instrument_type_first_traded_stock  instrument_type_first_traded_tracking  \\\n",
       "0                                   1                                      0   \n",
       "1                                   1                                      0   \n",
       "2                                   1                                      0   \n",
       "3                                   1                                      0   \n",
       "4                                   1                                      0   \n",
       "\n",
       "   instrument_type_first_traded_wrt  time_horizon_long_time_horizon  \\\n",
       "0                                 0                               0   \n",
       "1                                 0                               0   \n",
       "2                                 0                               1   \n",
       "3                                 0                               0   \n",
       "4                                 0                               1   \n",
       "\n",
       "   time_horizon_med_time_horizon  time_horizon_short_time_horizon  time_spent  \\\n",
       "0                              1                                0    0.308806   \n",
       "1                              0                                1   -0.262581   \n",
       "2                              0                                0   -0.489161   \n",
       "3                              0                                1   -0.798970   \n",
       "4                              0                                0   -0.552012   \n",
       "\n",
       "   first_deposit_amount                           user_id  churn_bit  \n",
       "0             -0.588710  895044c23edc821881e87da749c01034          0  \n",
       "1             -0.344322  458b1d95441ced242949deefe8e4b638          0  \n",
       "2             -0.611621  c7936f653d293479e034865db9bb932f          0  \n",
       "3             -0.497065  b255d4bd6c9ba194d3a350b3e76c6393          0  \n",
       "4             -0.619259  4a168225e89375b8de605cbc0977ae91          0  \n",
       "\n",
       "[5 rows x 31 columns]"
      ]
     },
     "execution_count": 17,
     "metadata": {},
     "output_type": "execute_result"
    }
   ],
   "source": [
    "#Standardize all the numerical feature\n",
    "scaler = StandardScaler()\n",
    "for Col in ['first_deposit_amount','time_spent']:\n",
    "    #name = Col + '_std'\n",
    "    df_model[Col] = scaler.fit_transform(df_model[Col].values.reshape(-1, 1))\n",
    "\n",
    "df_model.head()"
   ]
  },
  {
   "cell_type": "markdown",
   "metadata": {},
   "source": [
    "## Feature Selection "
   ]
  },
  {
   "cell_type": "markdown",
   "metadata": {},
   "source": [
    "### Use recursive feature elimination with cv to perform basic feature selection. Since the data is mildly imbalance between positive and negative classes, and the goal is to detect churned users. so we use recall as the scoring metric "
   ]
  },
  {
   "cell_type": "code",
   "execution_count": 18,
   "metadata": {},
   "outputs": [
    {
     "data": {
      "text/plain": [
       "RFECV(cv=StratifiedKFold(n_splits=5, random_state=None, shuffle=False),\n",
       "      estimator=LogisticRegression(), scoring='recall')"
      ]
     },
     "execution_count": 18,
     "metadata": {},
     "output_type": "execute_result"
    }
   ],
   "source": [
    "#all the features\n",
    "col_list_all_lr = corr['index'].values.tolist()\n",
    "X = df_model[col_list_all_lr[1:]]\n",
    "y = df_model[col_list_all_lr[0]]\n",
    "\n",
    "\n",
    "clf =  LogisticRegression(solver='lbfgs')\n",
    "\n",
    "rfecv = RFECV(estimator=clf, step=1, cv=StratifiedKFold(5),\n",
    "              scoring='recall')\n",
    "             #min_features_to_select=10)\n",
    "rfecv.fit(X, y)"
   ]
  },
  {
   "cell_type": "code",
   "execution_count": 19,
   "metadata": {},
   "outputs": [
    {
     "name": "stdout",
     "output_type": "stream",
     "text": [
      "15\n"
     ]
    },
    {
     "data": {
      "text/plain": [
       "['first_deposit_amount',\n",
       " 'instrument_type_first_traded_mlp',\n",
       " 'instrument_type_first_traded_tracking',\n",
       " 'instrument_type_first_traded_0',\n",
       " 'instrument_type_first_traded_rlt',\n",
       " 'instrument_type_first_traded_lp',\n",
       " 'instrument_type_first_traded_stock',\n",
       " 'instrument_type_first_traded_wrt',\n",
       " 'liquidity_needs_very_important_liq_need',\n",
       " 'liquidity_needs_somewhat_important_liq_need',\n",
       " 'platform_Android',\n",
       " 'risk_tolerance_high_risk_tolerance',\n",
       " 'risk_tolerance_med_risk_tolerance',\n",
       " 'time_horizon_short_time_horizon',\n",
       " 'time_spent']"
      ]
     },
     "execution_count": 19,
     "metadata": {},
     "output_type": "execute_result"
    }
   ],
   "source": [
    "#print out our final feature list\n",
    "col_list_selected = [i for (i, v) in zip(col_list_all_lr[1:], rfecv.get_support()) if v]\n",
    "print(len(col_list_selected))\n",
    "col_list_selected"
   ]
  },
  {
   "cell_type": "markdown",
   "metadata": {},
   "source": [
    "## a. Logistic Regression"
   ]
  },
  {
   "cell_type": "code",
   "execution_count": 29,
   "metadata": {},
   "outputs": [],
   "source": [
    "#import sklearn.external.joblib as extjoblib\n",
    "import joblib"
   ]
  },
  {
   "cell_type": "code",
   "execution_count": 30,
   "metadata": {},
   "outputs": [],
   "source": [
    "## split the data set into 80% train and 20% test\n",
    "\n",
    "joblib.dump(df_model, r'D:\\sth\\interview\\Robinhood\\df_model.pkl')\n",
    "\n",
    "X = df_model[col_list_selected]\n",
    "y = df_model['churn_bit']\n",
    "\n",
    "X_train, X_test, y_train, y_test = train_test_split(X, y.values.ravel(), test_size=0.2, random_state=0)"
   ]
  },
  {
   "cell_type": "code",
   "execution_count": 21,
   "metadata": {},
   "outputs": [],
   "source": [
    "lr = LogisticRegression(solver='lbfgs').fit(X_train, y_train)"
   ]
  },
  {
   "cell_type": "code",
   "execution_count": 23,
   "metadata": {},
   "outputs": [
    {
     "data": {
      "text/plain": [
       "array([-1.09744278])"
      ]
     },
     "execution_count": 23,
     "metadata": {},
     "output_type": "execute_result"
    }
   ],
   "source": [
    "lr.intercept_"
   ]
  },
  {
   "cell_type": "code",
   "execution_count": 22,
   "metadata": {},
   "outputs": [
    {
     "name": "stdout",
     "output_type": "stream",
     "text": [
      "Training Model metrics\n",
      "\t Accuracy: 81.84 %,  Precision: 75.00 %,  Recall: 0.74 %,  F1: 1.46 %\n",
      "Testing Model metrics\n",
      "\t Accuracy: 82.81 %,  Precision: 0.00 %,  Recall: 0.00 %,  F1: 0.00 %\n"
     ]
    },
    {
     "data": {
      "text/plain": [
       "Text(0.5, 1, 'Testing Confusion Matrix')"
      ]
     },
     "execution_count": 22,
     "metadata": {},
     "output_type": "execute_result"
    },
    {
     "data": {
      "image/png": "[encoded data removed]",
      "text/plain": [
       "<Figure size 432x288 with 1 Axes>"
      ]
     },
     "metadata": {
      "needs_background": "light"
     },
     "output_type": "display_data"
    }
   ],
   "source": [
    "#calculate the model perf metrics\n",
    "y_train_hat = lr.predict(X_train)\n",
    "train_accuracy = accuracy_score(y_train, y_train_hat)*100\n",
    "train_precision = precision_score(y_train, y_train_hat)*100\n",
    "train_recall = recall_score(y_train, y_train_hat)*100\n",
    "train_f1 = f1_score(y_train, y_train_hat)*100\n",
    "y_test_hat = lr.predict(X_test)\n",
    "test_accuracy = accuracy_score(y_test, y_test_hat)*100\n",
    "test_precision = precision_score(y_test, y_test_hat)*100\n",
    "test_recall = recall_score(y_test, y_test_hat)*100\n",
    "test_f1 = f1_score(y_test, y_test_hat)*100\n",
    "\n",
    "print('Training Model metrics\\n\\t Accuracy: %.2f %%,  Precision: %.2f %%,  Recall: %.2f %%,  F1: %.2f %%' % (train_accuracy,train_precision,train_recall,train_f1))\n",
    "print('Testing Model metrics\\n\\t Accuracy: %.2f %%,  Precision: %.2f %%,  Recall: %.2f %%,  F1: %.2f %%' % (test_accuracy,test_precision,test_recall,test_f1))\n",
    "\n",
    "#print the confusion matrix\n",
    "cm_matrix = pd.DataFrame(data=confusion_matrix(y_test, y_test_hat), columns=['Pred Neg: 0', 'Pred Pos: 1'], \n",
    "                                 index=[ 'Actual Neg: 0','Actual Pos: 1'])\n",
    "\n",
    "ax = sns.heatmap(cm_matrix, annot=True, fmt='d', cmap='YlGnBu',cbar = False)\n",
    "plt.title('Testing Confusion Matrix', fontsize = 15)"
   ]
  },
  {
   "cell_type": "markdown",
   "metadata": {},
   "source": [
    "### Logistic regression yields an accuracy around 82% on train dataset, and around 83% on test dataset. However this classifier can't identify any churned user on test data, it has really low recall."
   ]
  },
  {
   "cell_type": "markdown",
   "metadata": {},
   "source": [
    "## b. Random Forest Classifier"
   ]
  },
  {
   "cell_type": "code",
   "execution_count": 23,
   "metadata": {},
   "outputs": [],
   "source": [
    "##Now lets try random forest\n",
    "rf = RandomForestClassifier(criterion = 'gini',\n",
    "                            max_features='auto',\n",
    "                             oob_score=True,\n",
    "                             random_state=1,\n",
    "                             n_jobs=-1)\n",
    "\n",
    "## use grid search for hyperparams tunning \n",
    "## this section is commented out for downloading purpose\n",
    "\n",
    "# param_grid = {'max_depth' : [3,5,8,10],\n",
    "#               'min_samples_leaf' : [1,3,5, 10], \n",
    "#               'min_samples_split' : [2, 5, 10, 15],\n",
    "#               'n_estimators': [300, 500, 1000,1200]}\n",
    "\n",
    "# gs = GridSearchCV(estimator=rf, param_grid=param_grid, scoring='recall', cv=3, n_jobs=-1)\n",
    "# gs = gs.fit(X_train, y_train)\n",
    "# rf = gs.best_estimator_"
   ]
  },
  {
   "cell_type": "code",
   "execution_count": 1091,
   "metadata": {},
   "outputs": [
    {
     "name": "stdout",
     "output_type": "stream",
     "text": [
      "{'max_depth': 10, 'min_samples_leaf': 1, 'min_samples_split': 2, 'n_estimators': 500}\n"
     ]
    }
   ],
   "source": [
    "#print(gs.best_params_)"
   ]
  },
  {
   "cell_type": "code",
   "execution_count": 24,
   "metadata": {},
   "outputs": [],
   "source": [
    "rf = RandomForestClassifier(criterion = 'gini',\n",
    "                            max_features='auto',\n",
    "                            max_depth=10,\n",
    "                            min_samples_leaf=1, \n",
    "                            min_samples_split=2,\n",
    "                            n_estimators=500,\n",
    "                            oob_score=True,\n",
    "                            random_state=1,\n",
    "                            n_jobs=-1)\n",
    "rf = rf.fit(X_train, y_train)"
   ]
  },
  {
   "cell_type": "code",
   "execution_count": 25,
   "metadata": {},
   "outputs": [
    {
     "name": "stdout",
     "output_type": "stream",
     "text": [
      "Training Model metrics\n",
      "\t Accuracy: 84.49 %,  Precision: 100.00 %,  Recall: 14.97 %,  F1: 26.04 %\n",
      "Testing Model metrics\n",
      "\t Accuracy: 82.45 %,  Precision: 33.33 %,  Recall: 2.08 %,  F1: 3.92 %\n"
     ]
    },
    {
     "data": {
      "text/plain": [
       "Text(0.5, 1, 'Testing Confusion Matrix')"
      ]
     },
     "execution_count": 25,
     "metadata": {},
     "output_type": "execute_result"
    },
    {
     "data": {
      "image/png": "[encoded data removed]",
      "text/plain": [
       "<Figure size 432x288 with 1 Axes>"
      ]
     },
     "metadata": {
      "needs_background": "light"
     },
     "output_type": "display_data"
    }
   ],
   "source": [
    "#calculate the model perf metrics\n",
    "y_train_hat = rf.predict(X_train)\n",
    "train_accuracy = accuracy_score(y_train, y_train_hat)*100\n",
    "train_precision = precision_score(y_train, y_train_hat)*100\n",
    "train_recall = recall_score(y_train, y_train_hat)*100\n",
    "train_f1 = f1_score(y_train, y_train_hat)*100\n",
    "y_test_hat = rf.predict(X_test)\n",
    "test_accuracy = accuracy_score(y_test, y_test_hat)*100\n",
    "test_precision = precision_score(y_test, y_test_hat)*100\n",
    "test_recall = recall_score(y_test, y_test_hat)*100\n",
    "test_f1 = f1_score(y_test, y_test_hat)*100\n",
    "\n",
    "print('Training Model metrics\\n\\t Accuracy: %.2f %%,  Precision: %.2f %%,  Recall: %.2f %%,  F1: %.2f %%' % (train_accuracy,train_precision,train_recall,train_f1))\n",
    "print('Testing Model metrics\\n\\t Accuracy: %.2f %%,  Precision: %.2f %%,  Recall: %.2f %%,  F1: %.2f %%' % (test_accuracy,test_precision,test_recall,test_f1))\n",
    "\n",
    "#print the confusion matrix\n",
    "cm_matrix = pd.DataFrame(data=confusion_matrix(y_test, y_test_hat), columns=['Pred Neg: 0', 'Pred Pos: 1'], \n",
    "                                 index=[ 'Actual Neg: 0','Actual Pos: 1'])\n",
    "\n",
    "ax = sns.heatmap(cm_matrix, annot=True, fmt='d', cmap='YlGnBu',cbar = False)\n",
    "plt.title('Testing Confusion Matrix', fontsize = 15)"
   ]
  },
  {
   "cell_type": "markdown",
   "metadata": {},
   "source": [
    "### Compared to Logistic Regression, Random Forest model has the similar accuracy yet a higher recall, but still needs improvement. "
   ]
  },
  {
   "cell_type": "markdown",
   "metadata": {},
   "source": [
    "## c. XGBoost"
   ]
  },
  {
   "cell_type": "code",
   "execution_count": 26,
   "metadata": {},
   "outputs": [],
   "source": [
    "## Now let's try XGBoost model. \n",
    "\n",
    "## use grid search for hyperparams tunning \n",
    "## we need to have constraints to avoid overfitting\n",
    "\n",
    "## this section is commented out for downloading purpose\n",
    "\n",
    "# xgb = XGBClassifier(n_estimators=300, objective='binary:logistic',silent=True, nthread=1, n_jobs=-1)\n",
    "# param_grid_xgb = {\n",
    "#         'min_child_weight': [1, 5, 10],\n",
    "#         'subsample': [0.5, 0.7],\n",
    "#         'colsample_bytree': [0.5, 0.7],\n",
    "#         'max_depth': [3,5],\n",
    "#         'learning_rate' : [0.01,0.05,0.1]\n",
    "#         }\n",
    "\n",
    "# gs_xgb = GridSearchCV(estimator=xgb, param_grid=param_grid_xgb, scoring='recall', cv=3, n_jobs=-1)\n",
    "# gs_xgb = gs_xgb.fit(X_train, y_train)\n",
    "# xgb = gs_xgb.best_estimator_"
   ]
  },
  {
   "cell_type": "code",
   "execution_count": 1094,
   "metadata": {},
   "outputs": [
    {
     "name": "stdout",
     "output_type": "stream",
     "text": [
      "{'colsample_bytree': 0.7, 'learning_rate': 0.1, 'max_depth': 5, 'min_child_weight': 1, 'subsample': 0.7}\n"
     ]
    }
   ],
   "source": [
    "#print(gs_xgb.best_params_)"
   ]
  },
  {
   "cell_type": "code",
   "execution_count": 27,
   "metadata": {},
   "outputs": [
    {
     "data": {
      "text/plain": [
       "XGBClassifier(colsample_bytree=0.7, max_depth=5, n_estimators=300, n_jobs=-1,\n",
       "              nthread=1, silent=True, subsample=0.7)"
      ]
     },
     "execution_count": 27,
     "metadata": {},
     "output_type": "execute_result"
    }
   ],
   "source": [
    "xgb = XGBClassifier(n_estimators=300, \n",
    "                    colsample_bytree=0.7,\n",
    "                    subsample=0.7,\n",
    "                    max_depth=5,\n",
    "                    learning_rate=0.1,\n",
    "                    min_child_weight=1,\n",
    "                    objective='binary:logistic',\n",
    "                    silent=True, \n",
    "                    nthread=1, \n",
    "                    n_jobs=-1)\n",
    "\n",
    "xgb.fit(X_train, y_train)"
   ]
  },
  {
   "cell_type": "code",
   "execution_count": 28,
   "metadata": {},
   "outputs": [
    {
     "name": "stdout",
     "output_type": "stream",
     "text": [
      "Training Model metrics\n",
      "\t Accuracy: 86.97 %,  Precision: 93.63 %,  Recall: 30.67 %,  F1: 46.21 %\n",
      "Testing Model metrics\n",
      "\t Accuracy: 81.83 %,  Precision: 40.68 %,  Recall: 12.50 %,  F1: 19.12 %\n"
     ]
    },
    {
     "data": {
      "text/plain": [
       "Text(0.5, 1, 'Testing Confusion Matrix')"
      ]
     },
     "execution_count": 28,
     "metadata": {},
     "output_type": "execute_result"
    },
    {
     "data": {
      "image/png": "[encoded data removed]",
      "text/plain": [
       "<Figure size 432x288 with 1 Axes>"
      ]
     },
     "metadata": {
      "needs_background": "light"
     },
     "output_type": "display_data"
    }
   ],
   "source": [
    "#calculate the model perf metrics\n",
    "y_train_hat = xgb.predict(X_train)\n",
    "train_accuracy = accuracy_score(y_train, y_train_hat)*100\n",
    "train_precision = precision_score(y_train, y_train_hat)*100\n",
    "train_recall = recall_score(y_train, y_train_hat)*100\n",
    "train_f1 = f1_score(y_train, y_train_hat)*100\n",
    "y_test_hat = xgb.predict(X_test)\n",
    "test_accuracy = accuracy_score(y_test, y_test_hat)*100\n",
    "test_precision = precision_score(y_test, y_test_hat)*100\n",
    "test_recall = recall_score(y_test, y_test_hat)*100\n",
    "test_f1 = f1_score(y_test, y_test_hat)*100\n",
    "\n",
    "print('Training Model metrics\\n\\t Accuracy: %.2f %%,  Precision: %.2f %%,  Recall: %.2f %%,  F1: %.2f %%' % (train_accuracy,train_precision,train_recall,train_f1))\n",
    "print('Testing Model metrics\\n\\t Accuracy: %.2f %%,  Precision: %.2f %%,  Recall: %.2f %%,  F1: %.2f %%' % (test_accuracy,test_precision,test_recall,test_f1))\n",
    "\n",
    "#print the confusion matrix\n",
    "cm_matrix = pd.DataFrame(data=confusion_matrix(y_test, y_test_hat), columns=['Pred Neg: 0', 'Pred Pos: 1'], \n",
    "                                 index=[ 'Actual Neg: 0','Actual Pos: 1'])\n",
    "\n",
    "ax = sns.heatmap(cm_matrix, annot=True, fmt='d', cmap='YlGnBu',cbar = False)\n",
    "plt.title('Testing Confusion Matrix', fontsize = 15)"
   ]
  },
  {
   "cell_type": "markdown",
   "metadata": {},
   "source": [
    "### The boosting model has the highest recall and accuracy on training data, and all the model performance metrics are better than the other two models. However the recall score is still too low, that the model couldn't successfully identify the churned user. With limited given features, we should try to balance the data and retrain the model to achieve better classification power"
   ]
  },
  {
   "cell_type": "markdown",
   "metadata": {},
   "source": [
    "## Balance dataset"
   ]
  },
  {
   "cell_type": "code",
   "execution_count": 29,
   "metadata": {},
   "outputs": [
    {
     "name": "stdout",
     "output_type": "stream",
     "text": [
      "Now the dataset has 50.0 % churned users\n"
     ]
    }
   ],
   "source": [
    "smote = SMOTE(sampling_strategy='minority',random_state=1)\n",
    "X_sm, y_sm = smote.fit_resample(X, y)\n",
    "\n",
    "# check the traget variable \n",
    "churn_pct_sm = sum(y_sm)/len(y_sm)\n",
    "print(f'Now the dataset has {churn_pct_sm*100:3.1f} % churned users')"
   ]
  },
  {
   "cell_type": "code",
   "execution_count": 30,
   "metadata": {},
   "outputs": [],
   "source": [
    "## split the data set into 80% train and 20% test\n",
    "X_train_sm, X_test_sm, y_train_sm, y_test_sm = train_test_split(X_sm, y_sm.values.ravel(), test_size=0.2, random_state=0)"
   ]
  },
  {
   "cell_type": "code",
   "execution_count": 31,
   "metadata": {},
   "outputs": [],
   "source": [
    "## use grid search for hyperparams tunning \n",
    "## we need to have constraints to avoid overfitting\n",
    "\n",
    "## this section is commented out for downloading purpose\n",
    "\n",
    "# xgb_sm = XGBClassifier(n_estimators=300, objective='binary:logistic',silent=True, nthread=1, n_jobs=-1)\n",
    "# param_grid_xgb = {\n",
    "#      'min_child_weight': [1, 5, 10],\n",
    "#      'subsample': [0.5, 0.7],\n",
    "#      'colsample_bytree': [0.5, 0.7],\n",
    "#      'max_depth': [3,5],\n",
    "#      'learning_rate' : [0.01,0.05,0.1]\n",
    "#      }\n",
    "\n",
    "# gs_xgb_sm = GridSearchCV(estimator=xgb_sm, param_grid=param_grid_xgb, scoring='recall', cv=3, n_jobs=-1)\n",
    "# gs_xgb_sm = gs_xgb_sm.fit(X_train, y_train)\n",
    "# xgb_sm = gs_xgb_sm.best_estimator_"
   ]
  },
  {
   "cell_type": "code",
   "execution_count": 69,
   "metadata": {},
   "outputs": [
    {
     "name": "stdout",
     "output_type": "stream",
     "text": [
      "{'colsample_bytree': 0.7, 'learning_rate': 0.1, 'max_depth': 5, 'min_child_weight': 1, 'subsample': 0.5}\n"
     ]
    }
   ],
   "source": [
    "#print(gs_xgb_sm.best_params_)"
   ]
  },
  {
   "cell_type": "code",
   "execution_count": 32,
   "metadata": {},
   "outputs": [
    {
     "data": {
      "text/plain": [
       "XGBClassifier(colsample_bytree=0.7, max_depth=5, n_estimators=300, n_jobs=-1,\n",
       "              nthread=1, silent=True, subsample=0.5)"
      ]
     },
     "execution_count": 32,
     "metadata": {},
     "output_type": "execute_result"
    }
   ],
   "source": [
    "xgb_sm = XGBClassifier(n_estimators=300, \n",
    "                    colsample_bytree=0.7,\n",
    "                    subsample=0.5,\n",
    "                    max_depth=5,\n",
    "                    learning_rate=0.1,\n",
    "                    min_child_weight=1,\n",
    "                    objective='binary:logistic',\n",
    "                    silent=True, \n",
    "                    nthread=1, \n",
    "                    n_jobs=-1)\n",
    "\n",
    "xgb_sm.fit(X_train_sm, y_train_sm)"
   ]
  },
  {
   "cell_type": "code",
   "execution_count": 33,
   "metadata": {},
   "outputs": [
    {
     "name": "stdout",
     "output_type": "stream",
     "text": [
      "Training Model metrics\n",
      "\t Accuracy: 86.02 %,  Precision: 90.77 %,  Recall: 80.30 %,  F1: 85.22 %\n",
      "Testing Model metrics\n",
      "\t Accuracy: 78.65 %,  Precision: 81.43 %,  Recall: 73.39 %,  F1: 77.20 %\n"
     ]
    },
    {
     "data": {
      "text/plain": [
       "Text(0.5, 1, 'Testing Confusion Matrix on Balanced Dataset')"
      ]
     },
     "execution_count": 33,
     "metadata": {},
     "output_type": "execute_result"
    },
    {
     "data": {
      "image/png": "[encoded data removed]",
      "text/plain": [
       "<Figure size 432x288 with 1 Axes>"
      ]
     },
     "metadata": {
      "needs_background": "light"
     },
     "output_type": "display_data"
    }
   ],
   "source": [
    "#calculate the model perf metrics based on balanced data\n",
    "y_train_hat = xgb_sm.predict(X_train_sm)\n",
    "train_accuracy = accuracy_score(y_train_sm, y_train_hat)*100\n",
    "train_precision = precision_score(y_train_sm, y_train_hat)*100\n",
    "train_recall = recall_score(y_train_sm, y_train_hat)*100\n",
    "train_f1 = f1_score(y_train_sm, y_train_hat)*100\n",
    "y_test_hat = xgb_sm.predict(X_test_sm)\n",
    "test_accuracy = accuracy_score(y_test_sm, y_test_hat)*100\n",
    "test_precision = precision_score(y_test_sm, y_test_hat)*100\n",
    "test_recall = recall_score(y_test_sm, y_test_hat)*100\n",
    "test_f1 = f1_score(y_test_sm, y_test_hat)*100\n",
    "\n",
    "print('Training Model metrics\\n\\t Accuracy: %.2f %%,  Precision: %.2f %%,  Recall: %.2f %%,  F1: %.2f %%' % (train_accuracy,train_precision,train_recall,train_f1))\n",
    "print('Testing Model metrics\\n\\t Accuracy: %.2f %%,  Precision: %.2f %%,  Recall: %.2f %%,  F1: %.2f %%' % (test_accuracy,test_precision,test_recall,test_f1))\n",
    "\n",
    "#print the confusion matrix\n",
    "cm_matrix = pd.DataFrame(data=confusion_matrix(y_test_sm, y_test_hat), columns=['Pred Neg: 0', 'Pred Pos: 1'], \n",
    "                                 index=[ 'Actual Neg: 0','Actual Pos: 1'])\n",
    "\n",
    "ax = sns.heatmap(cm_matrix, annot=True, fmt='d', cmap='YlGnBu',cbar = False)\n",
    "plt.title('Testing Confusion Matrix on Balanced Dataset', fontsize = 15)"
   ]
  },
  {
   "cell_type": "code",
   "execution_count": 34,
   "metadata": {},
   "outputs": [
    {
     "name": "stdout",
     "output_type": "stream",
     "text": [
      "Testing Model metrics on Imalanced Dataset\n",
      "\t Accuracy: 82.18 %,  Precision: 47.93 %,  Recall: 42.19 %,  F1: 44.88 %\n"
     ]
    },
    {
     "data": {
      "text/plain": [
       "Text(0.5, 1, 'Testing Confusion Matrix on Imalanced Dataset')"
      ]
     },
     "execution_count": 34,
     "metadata": {},
     "output_type": "execute_result"
    },
    {
     "data": {
      "image/png": "[encoded data removed]",
      "text/plain": [
       "<Figure size 432x288 with 1 Axes>"
      ]
     },
     "metadata": {
      "needs_background": "light"
     },
     "output_type": "display_data"
    }
   ],
   "source": [
    "#Now calculate the model perf metrics on imbalanced testing data for comparison\n",
    "y_test_hat = xgb_sm.predict(X_test)\n",
    "test_accuracy = accuracy_score(y_test, y_test_hat)*100\n",
    "test_precision = precision_score(y_test, y_test_hat)*100\n",
    "test_recall = recall_score(y_test, y_test_hat)*100\n",
    "test_f1 = f1_score(y_test, y_test_hat)*100\n",
    "\n",
    "print('Testing Model metrics on Imalanced Dataset\\n\\t Accuracy: %.2f %%,  Precision: %.2f %%,  Recall: %.2f %%,  F1: %.2f %%' % (test_accuracy,test_precision,test_recall,test_f1))\n",
    "\n",
    "#print the confusion matrix\n",
    "cm_matrix = pd.DataFrame(data=confusion_matrix(y_test, y_test_hat), columns=['Pred Neg: 0', 'Pred Pos: 1'], \n",
    "                                 index=[ 'Actual Neg: 0','Actual Pos: 1'])\n",
    "\n",
    "ax = sns.heatmap(cm_matrix, annot=True, fmt='d', cmap='YlGnBu',cbar = False)\n",
    "plt.title('Testing Confusion Matrix on Imalanced Dataset', fontsize = 15)"
   ]
  },
  {
   "cell_type": "markdown",
   "metadata": {},
   "source": [
    "### With the balanced data, XGBoost model yields a higher recall score than all the previously trained models. We compared the model metrics on imbalanced dataset, this new model has a significantly higher recall. The accuracy on balanced testing data is lower than on balanced training data by around 8%, suggesting that the model is slightly overfitting. But in general, this XGBoost model has a higher classification power."
   ]
  },
  {
   "cell_type": "markdown",
   "metadata": {},
   "source": [
    "## Feature importance"
   ]
  },
  {
   "cell_type": "markdown",
   "metadata": {},
   "source": [
    "### From the correlation heat map in Feature engineering section and Feature selection section, feature 'first_deposit_amount' has the highest correlation with our target variable. However for catagorical features, the importance could be reduced by splitting into dummy variables. We can use the feature_importances from XGBoost to get the aggregated importance of catagorical variables."
   ]
  },
  {
   "cell_type": "code",
   "execution_count": 35,
   "metadata": {},
   "outputs": [
    {
     "data": {
      "image/png": "[encoded data removed]",
      "text/plain": [
       "<Figure size 432x288 with 1 Axes>"
      ]
     },
     "metadata": {
      "needs_background": "light"
     },
     "output_type": "display_data"
    }
   ],
   "source": [
    "feature_scores = pd.DataFrame({'feature' : X_train_sm.columns,\n",
    "                               'feature_importance':xgb_sm.feature_importances_}).sort_values(by = 'feature_importance',ascending=False)\n",
    "\n",
    "sns.barplot(x=feature_scores['feature_importance'], y=feature_scores['feature'])\n",
    "plt.xlabel('Feature Importance Score')\n",
    "plt.ylabel('Features')\n",
    "plt.title(\"XGBoost Model Important Features\")\n",
    "plt.show()"
   ]
  },
  {
   "cell_type": "markdown",
   "metadata": {},
   "source": [
    "### The output feature_importances_ is counting the numbers of time that each feature splitted on in the model, then averaged across all the trees. The higher the number is, the more important and  informative the feature is to classify the user. We can sum up the feature_importances of dummies that belong to the same categorical feature and then compare."
   ]
  },
  {
   "cell_type": "code",
   "execution_count": 36,
   "metadata": {},
   "outputs": [
    {
     "data": {
      "text/html": [
       "<div>\n",
       "<style scoped>\n",
       "    .dataframe tbody tr th:only-of-type {\n",
       "        vertical-align: middle;\n",
       "    }\n",
       "\n",
       "    .dataframe tbody tr th {\n",
       "        vertical-align: top;\n",
       "    }\n",
       "\n",
       "    .dataframe thead th {\n",
       "        text-align: right;\n",
       "    }\n",
       "</style>\n",
       "<table border=\"1\" class=\"dataframe\">\n",
       "  <thead>\n",
       "    <tr style=\"text-align: right;\">\n",
       "      <th></th>\n",
       "      <th>feature_grp</th>\n",
       "      <th>importance_ttl</th>\n",
       "    </tr>\n",
       "  </thead>\n",
       "  <tbody>\n",
       "    <tr>\n",
       "      <th>0</th>\n",
       "      <td>first_deposit_amount</td>\n",
       "      <td>0.233092</td>\n",
       "    </tr>\n",
       "    <tr>\n",
       "      <th>1</th>\n",
       "      <td>instrument</td>\n",
       "      <td>0.195930</td>\n",
       "    </tr>\n",
       "    <tr>\n",
       "      <th>4</th>\n",
       "      <td>risk</td>\n",
       "      <td>0.166128</td>\n",
       "    </tr>\n",
       "    <tr>\n",
       "      <th>2</th>\n",
       "      <td>liquidity</td>\n",
       "      <td>0.141080</td>\n",
       "    </tr>\n",
       "    <tr>\n",
       "      <th>6</th>\n",
       "      <td>time_spent</td>\n",
       "      <td>0.119962</td>\n",
       "    </tr>\n",
       "    <tr>\n",
       "      <th>3</th>\n",
       "      <td>platform</td>\n",
       "      <td>0.078794</td>\n",
       "    </tr>\n",
       "    <tr>\n",
       "      <th>5</th>\n",
       "      <td>time</td>\n",
       "      <td>0.065014</td>\n",
       "    </tr>\n",
       "  </tbody>\n",
       "</table>\n",
       "</div>"
      ],
      "text/plain": [
       "            feature_grp  importance_ttl\n",
       "0  first_deposit_amount        0.233092\n",
       "1            instrument        0.195930\n",
       "4                  risk        0.166128\n",
       "2             liquidity        0.141080\n",
       "6            time_spent        0.119962\n",
       "3              platform        0.078794\n",
       "5                  time        0.065014"
      ]
     },
     "execution_count": 36,
     "metadata": {},
     "output_type": "execute_result"
    }
   ],
   "source": [
    "feature_scores['feature_grp'] = feature_scores['feature'].apply(lambda x: x.split('_')[0] if (x != 'first_deposit_amount') & (x != 'time_spent')\n",
    "                                                                else x)\n",
    "feature_scores.groupby('feature_grp')['feature_importance'].sum().reset_index(name ='importance_ttl').sort_values(by = 'importance_ttl',ascending = False)"
   ]
  },
  {
   "cell_type": "markdown",
   "metadata": {},
   "source": [
    "### We noticed that numerical feature 'first_deposit_amount' ,and then categorical features 'instrument_type_first_traded' and 'risk_tolerance' are the top 3 important features in our classification model. This suggests that these features are the most important ones that correlate to user churn"
   ]
  },
  {
   "cell_type": "code",
   "execution_count": null,
   "metadata": {},
   "outputs": [],
   "source": []
  }
 ],
 "metadata": {
  "kernelspec": {
   "display_name": "Python 3",
   "language": "python",
   "name": "python3"
  },
  "language_info": {
   "codemirror_mode": {
    "name": "ipython",
    "version": 3
   },
   "file_extension": ".py",
   "mimetype": "text/x-python",
   "name": "python",
   "nbconvert_exporter": "python",
   "pygments_lexer": "ipython3",
   "version": "3.7.3"
  }
 },
 "nbformat": 4,
 "nbformat_minor": 2
}
